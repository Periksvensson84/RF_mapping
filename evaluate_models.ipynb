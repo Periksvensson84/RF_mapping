{
 "cells": [
  {
   "cell_type": "code",
   "execution_count": 70,
   "metadata": {},
   "outputs": [],
   "source": [
    "import pandas as pd\n",
    "import os\n",
    "\n",
    "def mean_likelihood_func(directory):\n",
    "    # search for .h5 file in directory\n",
    "    h5_files = [f for f in os.listdir(directory) if f.endswith('.h5')]\n",
    "    \n",
    "    if not h5_files:\n",
    "        print(\"No .h5-files found in the directory.\")\n",
    "        return\n",
    "    \n",
    "    for i, file_name in enumerate(h5_files, 1):\n",
    "        variable_name = f\"h5_file_{i}\"\n",
    "        file_path = os.path.join(directory, file_name)\n",
    "        globals()[variable_name] = file_path  \n",
    "        \n",
    "        # Get video name\n",
    "        display_name = file_name.split('_converted')[0]\n",
    "\n",
    "        # Read h5 file and print likelihood mean\n",
    "        try:\n",
    "            df = pd.read_hdf(file_path)\n",
    "            likelihood_df = df.xs('likelihood', level=2, axis=1)\n",
    "            mean_likelihood = likelihood_df.values.mean()\n",
    "            print(f\"Likelihood mean for all values {display_name}: {mean_likelihood:.4f}\")\n",
    "            # print(likelihood_df.describe().transpose())\n",
    "        except Exception as e:\n",
    "            print(f\"Couldn't read filepath : {file_path}: {e}\")"
   ]
  },
  {
   "cell_type": "markdown",
   "metadata": {},
   "source": [
    "# Arvidh "
   ]
  },
  {
   "cell_type": "code",
   "execution_count": 71,
   "metadata": {},
   "outputs": [
    {
     "name": "stdout",
     "output_type": "stream",
     "text": [
      "Likelihood mean for all values 2-2k7-120-handDLC_resnet50_test5 May2shuffle1_70000.h5: 0.9749\n"
     ]
    }
   ],
   "source": [
    "path = \"/local/data2/LIA_LIU_PONTUS/LIA_LIU/arvidh_h5\"\n",
    "\n",
    "mean_likelihood_func(path)"
   ]
  },
  {
   "cell_type": "markdown",
   "metadata": {},
   "source": [
    "# 7 Videos test"
   ]
  },
  {
   "cell_type": "code",
   "execution_count": 72,
   "metadata": {},
   "outputs": [
    {
     "name": "stdout",
     "output_type": "stream",
     "text": [
      "Likelihood mean for all values 1-2: 0.9203\n",
      "Likelihood mean for all values smalltest: 0.7967\n",
      "Likelihood mean for all values 1-1: 0.9349\n",
      "Likelihood mean for all values RF_mapping_untracked: 0.7889\n",
      "Likelihood mean for all values 2-2k7-120-hand: 0.7195\n",
      "Likelihood mean for all values 240frames: 0.7951\n",
      "Likelihood mean for all values squaretest: 0.8679\n"
     ]
    }
   ],
   "source": [
    "path = \"/local/data2/LIA_LIU_PONTUS/LIA_LIU/test_7_converted_vid-conv_vid-2024-10-24/videos\"\n",
    "\n",
    "mean_likelihood_func(path)"
   ]
  },
  {
   "cell_type": "markdown",
   "metadata": {},
   "source": [
    "# 10_000 epochs (1425)\n"
   ]
  },
  {
   "cell_type": "code",
   "execution_count": 73,
   "metadata": {},
   "outputs": [
    {
     "name": "stdout",
     "output_type": "stream",
     "text": [
      "Likelihood mean for all values 240frames: 0.8039\n",
      "Likelihood mean for all values smalltest: 0.7987\n",
      "Likelihood mean for all values 1-1: 0.9368\n",
      "Likelihood mean for all values RF_mapping_untracked: 0.7969\n",
      "Likelihood mean for all values 2-2k7-120-hand: 0.7363\n",
      "Likelihood mean for all values 1-2: 0.9231\n",
      "Likelihood mean for all values squaretest: 0.8797\n"
     ]
    }
   ],
   "source": [
    "path = \"/local/data2/LIA_LIU_PONTUS/LIA_LIU/test_10_000_epochs-conv_vid-2024-10-28/videos/\"\n",
    "\n",
    "mean_likelihood_func(path)"
   ]
  }
 ],
 "metadata": {
  "kernelspec": {
   "display_name": "DEEPLABCUT",
   "language": "python",
   "name": "python3"
  },
  "language_info": {
   "codemirror_mode": {
    "name": "ipython",
    "version": 3
   },
   "file_extension": ".py",
   "mimetype": "text/x-python",
   "name": "python",
   "nbconvert_exporter": "python",
   "pygments_lexer": "ipython3",
   "version": "3.10.15"
  }
 },
 "nbformat": 4,
 "nbformat_minor": 2
}
