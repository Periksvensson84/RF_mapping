{
 "cells": [
  {
   "cell_type": "markdown",
   "metadata": {},
   "source": [
    "# Initialize libraries"
   ]
  },
  {
   "cell_type": "code",
   "execution_count": null,
   "metadata": {},
   "outputs": [],
   "source": [
    "import deeplabcut\n",
    "from datetime import datetime\n",
    "\n",
    "from dlchelperclass import DlcHelperClass as dhc"
   ]
  },
  {
   "cell_type": "markdown",
   "metadata": {},
   "source": [
    "# Create new project"
   ]
  },
  {
   "cell_type": "code",
   "execution_count": null,
   "metadata": {},
   "outputs": [],
   "source": [
    "# Enter your project name\n",
    "project_name = 'hrnet_w48_2'\n",
    "# If you want to use labeled frames from an earlier project,\n",
    "# make sure to use the same experiment name as in the previous project.\n",
    "# Enter your experimenter name\n",
    "experimenter_name = 'conv_vid'\n",
    "# Specify where you want your project folder to be created\n",
    "work_dir = '/local/data2/LIA_LIU_PONTUS/LIA_LIU'\n",
    "# create project path\n",
    "project_path = work_dir + '/' + project_name + '-' + experimenter_name + '-' + datetime.now().strftime(\"%Y-%m-%d\")\n",
    "# video path\n",
    "videos_dir_path = '/local/data2/LIA_LIU/videos_converted'\n",
    "# Creates a list variable of all videos paths \n",
    "video_path = dhc.get_video_paths(path=videos_dir_path)\n",
    "# Create project\n",
    "deeplabcut.create_new_project(\n",
    "    project=project_name,\n",
    "    experimenter=experimenter_name,\n",
    "    videos=video_path,\n",
    "    working_directory=work_dir,\n",
    "    copy_videos=True\n",
    ")\n",
    "\n",
    "# Config yaml path\n",
    "config_path = project_path + '/config.yaml'"
   ]
  },
  {
   "cell_type": "markdown",
   "metadata": {},
   "source": [
    "# Initialize paths (For loading existing project)\n",
    "# skip this cell if you created a new project"
   ]
  },
  {
   "cell_type": "code",
   "execution_count": null,
   "metadata": {},
   "outputs": [],
   "source": [
    "# Enter your project path\n",
    "project_path = \"/local/data2/LIA_LIU_PONTUS/LIA_LIU/dlcrnet_stride32_ms5_2-conv_vid-2024-11-18\"\n",
    "# Creates path for config file and videos\n",
    "config_path, video_path = dhc.get_config_and_video_paths(project_path=project_path)"
   ]
  },
  {
   "cell_type": "markdown",
   "metadata": {},
   "source": [
    "# Extract frames"
   ]
  },
  {
   "cell_type": "code",
   "execution_count": null,
   "metadata": {},
   "outputs": [],
   "source": [
    "# Extract frames for labeling, amount of images and train/test ratio defined in config.yaml\n",
    "deeplabcut.extract_frames(config_path=config_path, video_path=video_path, mode='automatic')"
   ]
  },
  {
   "cell_type": "markdown",
   "metadata": {},
   "source": [
    "# Use napari for labeling "
   ]
  },
  {
   "cell_type": "markdown",
   "metadata": {},
   "source": [
    "# Creates CSV and h5 files needed for labeling"
   ]
  },
  {
   "cell_type": "code",
   "execution_count": null,
   "metadata": {},
   "outputs": [],
   "source": [
    "deeplabcut.create_training_dataset(config=config_path)"
   ]
  },
  {
   "cell_type": "markdown",
   "metadata": {},
   "source": [
    "# Train network"
   ]
  },
  {
   "cell_type": "code",
   "execution_count": null,
   "metadata": {},
   "outputs": [],
   "source": [
    "deeplabcut.train_network(config_path, maxiters=1_000_000)"
   ]
  },
  {
   "cell_type": "markdown",
   "metadata": {},
   "source": [
    "# Creates training_stats.csv"
   ]
  },
  {
   "cell_type": "code",
   "execution_count": null,
   "metadata": {},
   "outputs": [],
   "source": [
    "# Needed for plotting losses\n",
    "deeplabcut.evaluate_network(config_path, plotting=True)"
   ]
  },
  {
   "cell_type": "markdown",
   "metadata": {},
   "source": [
    "# Makes prediction on videos"
   ]
  },
  {
   "cell_type": "code",
   "execution_count": null,
   "metadata": {},
   "outputs": [],
   "source": [
    "deeplabcut.analyze_videos(config_path, videos=video_path)"
   ]
  },
  {
   "cell_type": "markdown",
   "metadata": {},
   "source": [
    "# Create new videos with the models predicted labels"
   ]
  },
  {
   "cell_type": "code",
   "execution_count": null,
   "metadata": {},
   "outputs": [],
   "source": [
    "deeplabcut.create_labeled_video(config_path, videos=video_path)"
   ]
  },
  {
   "cell_type": "markdown",
   "metadata": {},
   "source": [
    "# Evaluate models"
   ]
  },
  {
   "cell_type": "code",
   "execution_count": null,
   "metadata": {},
   "outputs": [],
   "source": [
    "# Creates likelihood.txt file and loss/vall_loss plot\n",
    "dhc.save_mean_likelihood_to_file(project_path=project_path)\n",
    "dhc.plot_loss_to_png(project_path)"
   ]
  },
  {
   "cell_type": "markdown",
   "metadata": {},
   "source": [
    "# Extract outlier frames and re-labeling"
   ]
  },
  {
   "cell_type": "code",
   "execution_count": null,
   "metadata": {},
   "outputs": [],
   "source": [
    "deeplabcut.extract_outlier_frames(config=config_path,\n",
    "                                   shuffle=1,\n",
    "                                  automatic=True,\n",
    "                                  videos=video_path)"
   ]
  },
  {
   "cell_type": "code",
   "execution_count": null,
   "metadata": {},
   "outputs": [],
   "source": [
    "# Open the DeepLabCut GUI to manually correct labels\n",
    "# Launch the GUI to manually adjust labels on the extracted frames\n",
    "deeplabcut.refine_labels(project_path)"
   ]
  },
  {
   "cell_type": "code",
   "execution_count": null,
   "metadata": {},
   "outputs": [],
   "source": [
    "deeplabcut.merge_datasets(config=config_path)"
   ]
  },
  {
   "cell_type": "code",
   "execution_count": null,
   "metadata": {},
   "outputs": [],
   "source": [
    "# Create a new training dataset that includes the updated labels\n",
    "# This prepares the training files with the corrected labels for training\n",
    "deeplabcut.create_training_dataset(config=config_path)"
   ]
  },
  {
   "cell_type": "markdown",
   "metadata": {},
   "source": [
    "# Finetune "
   ]
  },
  {
   "cell_type": "code",
   "execution_count": null,
   "metadata": {},
   "outputs": [],
   "source": [
    "# Make sure you have run the following code line before:\n",
    "# * deeplabcut.analyze_videos(project_path, video_paths)"
   ]
  },
  {
   "cell_type": "code",
   "execution_count": null,
   "metadata": {},
   "outputs": [],
   "source": [
    "# Retrain the model with the updated dataset\n",
    "# Use transfer learning to improve the existing model with the new data\n",
    "deeplabcut.train_network(project_path, shuffle=1, displayiters=100, saveiters=1000)"
   ]
  },
  {
   "cell_type": "code",
   "execution_count": null,
   "metadata": {},
   "outputs": [],
   "source": [
    "# Re-evaluate performance on the updated model\n",
    "# Analyze the videos again to check if model accuracy has improved after retraining\n",
    "deeplabcut.analyze_videos(project_path, video_path)"
   ]
  },
  {
   "cell_type": "markdown",
   "metadata": {},
   "source": [
    "# Predict unseen data"
   ]
  },
  {
   "cell_type": "code",
   "execution_count": null,
   "metadata": {},
   "outputs": [],
   "source": [
    "deeplabcut.analyze_videos(config_path, videos=video_path)"
   ]
  },
  {
   "cell_type": "code",
   "execution_count": null,
   "metadata": {},
   "outputs": [],
   "source": [
    "deeplabcut.create_labeled_video(config_path, videos=video_path)"
   ]
  }
 ],
 "metadata": {
  "kernelspec": {
   "display_name": "DEEPLABCUT",
   "language": "python",
   "name": "python3"
  },
  "language_info": {
   "codemirror_mode": {
    "name": "ipython",
    "version": 3
   },
   "file_extension": ".py",
   "mimetype": "text/x-python",
   "name": "python",
   "nbconvert_exporter": "python",
   "pygments_lexer": "ipython3",
   "version": "3.10.15"
  }
 },
 "nbformat": 4,
 "nbformat_minor": 2
}
