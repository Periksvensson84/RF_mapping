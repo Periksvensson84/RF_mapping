{
 "cells": [
  {
   "cell_type": "code",
   "execution_count": null,
   "metadata": {},
   "outputs": [
    {
     "name": "stdout",
     "output_type": "stream",
     "text": [
      "Data har sparats till test.csv i det önskade formatet.\n"
     ]
    }
   ],
   "source": [
    "import cv2\n",
    "import pandas as pd\n",
    "import numpy as np\n",
    "\n",
    "video_path = \"/local/data2/LIA_LIU_PONTUS/LIA_LIU/untrained_videos/GH010342_converted.mp4\"\n",
    "video = cv2.VideoCapture(video_path)\n",
    "fps = video.get(cv2.CAP_PROP_FPS)\n",
    "total_frames = video.get(cv2.CAP_PROP_FRAME_COUNT)\n",
    "video.release()\n",
    "\n",
    "# Load your h5 file\n",
    "h5_file = '/local/data2/LIA_LIU_PONTUS/LIA_LIU/untrained_videos/test_10_000_epochs/GH010342_convertedDLC_Resnet101_test_10_000_epochsOct28shuffle1_snapshot_1425.h5'\n",
    "df = pd.read_hdf(h5_file)\n",
    "\n",
    "# Rename columns to remove 'scorer' level\n",
    "df.columns = [f\"{bodypart}_{coord}\" for bodypart, coord in zip(df.columns.get_level_values(1), df.columns.get_level_values(2))]\n",
    "\n",
    "# Add 'realtime' column to represent timestamp in seconds\n",
    "df['realtime'] = np.arange(len(df)) / fps\n",
    "\n",
    "# Display the first few rows to verify\n",
    "df.head(5)\n",
    "\n",
    "csv_file = 'h5_data_on_csv.csv' \n",
    "try:\n",
    "    df.to_csv(csv_file, index=False)\n",
    "except Exception as e:\n",
    "    print(e)"
   ]
  }
 ],
 "metadata": {
  "kernelspec": {
   "display_name": "DEEPLABCUT",
   "language": "python",
   "name": "python3"
  },
  "language_info": {
   "codemirror_mode": {
    "name": "ipython",
    "version": 3
   },
   "file_extension": ".py",
   "mimetype": "text/x-python",
   "name": "python",
   "nbconvert_exporter": "python",
   "pygments_lexer": "ipython3",
   "version": "3.10.15"
  }
 },
 "nbformat": 4,
 "nbformat_minor": 2
}
